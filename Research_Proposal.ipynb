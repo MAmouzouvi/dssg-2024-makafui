{
 "cells": [
  {
   "cell_type": "markdown",
   "id": "ff463efd-8fb8-4116-acfb-afe55552fbe5",
   "metadata": {},
   "source": [
    "## Project Proposal — Mentorship relationships "
   ]
  },
  {
   "cell_type": "markdown",
   "id": "086962a3-cd77-4dae-a57c-48ef09152176",
   "metadata": {},
   "source": [
    "## 1. Introduction\n",
    "\n",
    "<!-- << Introduce the topic, its importance, the variables we are considering and their importance, and potential hypotheses and end-goals we would like to explore>> -->\n",
    "\n",
    " ### 1.a. Background \n",
    "Rural eMentoring BC is an online mentoring program for youths from rural and underpriviledged backgrounds in BC. The goal is to help these children prepare for life after high school and show them that post-secondary education is an option for them.  \n",
    "\n",
    "Mentors are college and university students in/from BC, and Mentees are students from grades 7-12. Mentees can participate voluntarily on their own, but most participate through their school/a graded class. Mentor-mentee pairs are created based on common interests, goals and experiences. \n",
    "\n",
    "This research project involves reading and analysing text conversations exchanged by 500 mentors and 1000 mentees over time. Our goal is to understand factors that influence successful online mentorship relationships. By the end of the project, we are hoping to answer the following questions among others : \n",
    "\n",
    "- What themes emerge from the messages?\n",
    "- What are pairs talking about outside the topics we provide, and should we provide support for these topics?\n",
    "- What are the richest areas of discussion?\n",
    "- What are some relationship factors that correlate with success?\n",
    "- What qualities make a successful relationship?\n",
    "- What communication/writing styles work best?\n",
    "- What kind of language are the mentors/mentees using and is it changing throughout the course of the relationship? \n",
    "- What are the qualities of successful mentors?\n",
    "\n",
    "\n",
    "### 1.b. Data Description\n",
    "\n",
    "\n",
    "Unlike most other mentorship programs where mentor-mentee conversations happen on their most prefered platforms, In this program, the mentor-mentee conversations take place on an online platform called MentorCity. And the conversation data obtained from that platform is what we are interested in exploring and deriving insights from.\n",
    "\n",
    "The original datasets generally contain multiple variables variables and each row represents a conversation history between a mentor and a mentee. The variables are defined below : \n",
    "\n",
    "**1. Mentor ID :**\n",
    "\n",
    "**2. Mentor Created At :**\n",
    "\n",
    "**3. Mentee ID :**\n",
    "\n",
    "**4. Relationship ID :**\n",
    "\n",
    "**..**\n",
    "\n",
    "**..**\n",
    "\n",
    "**..**\n",
    "\n",
    "\n",
    "\n",
    "\n",
    "\n",
    "\n",
    "\n"
   ]
  },
  {
   "cell_type": "markdown",
   "id": "3663b1dc-c808-4727-aefd-08881f1a50c1",
   "metadata": {},
   "source": [
    "### 2. Explanatory Data Analysis\n",
    "\n",
    "Explain cleaning process (talk about different methods we are considering for cleaning) and show results "
   ]
  },
  {
   "cell_type": "markdown",
   "id": "aa6088d0-5952-49f5-a67c-c8dae66d2166",
   "metadata": {},
   "source": [
    "### 3. Methods \n",
    "\n",
    "Explain methods we anticipate to use. What different kind of ML technques/models we would like to test or implement "
   ]
  },
  {
   "cell_type": "markdown",
   "id": "33579c4b-3446-4165-96b6-efe24a96ae66",
   "metadata": {},
   "source": [
    "### 4. Expected Outcomes and Importance"
   ]
  }
 ],
 "metadata": {
  "kernelspec": {
   "display_name": "Python 3 (ipykernel)",
   "language": "python",
   "name": "python3"
  },
  "language_info": {
   "codemirror_mode": {
    "name": "ipython",
    "version": 3
   },
   "file_extension": ".py",
   "mimetype": "text/x-python",
   "name": "python",
   "nbconvert_exporter": "python",
   "pygments_lexer": "ipython3",
   "version": "3.11.9"
  }
 },
 "nbformat": 4,
 "nbformat_minor": 5
}
