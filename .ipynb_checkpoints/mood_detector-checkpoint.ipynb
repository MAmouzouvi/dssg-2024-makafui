{
 "cells": [
  {
   "cell_type": "code",
   "execution_count": 1,
   "id": "6dde86b8",
   "metadata": {},
   "outputs": [
    {
     "name": "stdout",
     "output_type": "stream",
     "text": [
      "Note: you may need to restart the kernel to use updated packages.\n",
      "Requirement already satisfied: setfit in /zfs/users/asda1/asda1/miniconda3/envs/env-dssg/lib/python3.12/site-packages (1.0.3)\n",
      "Requirement already satisfied: transformers in /zfs/users/asda1/asda1/miniconda3/envs/env-dssg/lib/python3.12/site-packages (4.42.3)\n",
      "Requirement already satisfied: sentence-transformers in /zfs/users/asda1/asda1/miniconda3/envs/env-dssg/lib/python3.12/site-packages (3.0.1)\n",
      "Requirement already satisfied: datasets>=2.3.0 in /zfs/users/asda1/asda1/miniconda3/envs/env-dssg/lib/python3.12/site-packages (from setfit) (2.20.0)\n",
      "Requirement already satisfied: evaluate>=0.3.0 in /zfs/users/asda1/asda1/miniconda3/envs/env-dssg/lib/python3.12/site-packages (from setfit) (0.4.2)\n",
      "Requirement already satisfied: huggingface-hub>=0.13.0 in /zfs/users/asda1/asda1/miniconda3/envs/env-dssg/lib/python3.12/site-packages (from setfit) (0.23.4)\n",
      "Requirement already satisfied: scikit-learn in /zfs/users/asda1/asda1/miniconda3/envs/env-dssg/lib/python3.12/site-packages (from setfit) (1.5.0)\n",
      "Requirement already satisfied: packaging in /zfs/users/asda1/asda1/miniconda3/envs/env-dssg/lib/python3.12/site-packages (from setfit) (24.1)\n",
      "Requirement already satisfied: filelock in /zfs/users/asda1/asda1/miniconda3/envs/env-dssg/lib/python3.12/site-packages (from transformers) (3.15.3)\n",
      "Requirement already satisfied: numpy<2.0,>=1.17 in /zfs/users/asda1/asda1/miniconda3/envs/env-dssg/lib/python3.12/site-packages (from transformers) (1.26.4)\n",
      "Requirement already satisfied: pyyaml>=5.1 in /zfs/users/asda1/asda1/miniconda3/envs/env-dssg/lib/python3.12/site-packages (from transformers) (6.0.1)\n",
      "Requirement already satisfied: regex!=2019.12.17 in /zfs/users/asda1/asda1/miniconda3/envs/env-dssg/lib/python3.12/site-packages (from transformers) (2024.5.15)\n",
      "Requirement already satisfied: requests in /zfs/users/asda1/asda1/miniconda3/envs/env-dssg/lib/python3.12/site-packages (from transformers) (2.32.3)\n",
      "Requirement already satisfied: safetensors>=0.4.1 in /zfs/users/asda1/asda1/miniconda3/envs/env-dssg/lib/python3.12/site-packages (from transformers) (0.4.3)\n",
      "Requirement already satisfied: tokenizers<0.20,>=0.19 in /zfs/users/asda1/asda1/miniconda3/envs/env-dssg/lib/python3.12/site-packages (from transformers) (0.19.1)\n",
      "Requirement already satisfied: tqdm>=4.27 in /zfs/users/asda1/asda1/miniconda3/envs/env-dssg/lib/python3.12/site-packages (from transformers) (4.66.4)\n",
      "Requirement already satisfied: torch>=1.11.0 in /zfs/users/asda1/asda1/miniconda3/envs/env-dssg/lib/python3.12/site-packages (from sentence-transformers) (2.3.1)\n",
      "Requirement already satisfied: scipy in /zfs/users/asda1/asda1/miniconda3/envs/env-dssg/lib/python3.12/site-packages (from sentence-transformers) (1.13.1)\n",
      "Requirement already satisfied: Pillow in /zfs/users/asda1/asda1/miniconda3/envs/env-dssg/lib/python3.12/site-packages (from sentence-transformers) (10.3.0)\n",
      "Requirement already satisfied: pyarrow>=15.0.0 in /zfs/users/asda1/asda1/miniconda3/envs/env-dssg/lib/python3.12/site-packages (from datasets>=2.3.0->setfit) (16.1.0)\n",
      "Requirement already satisfied: pyarrow-hotfix in /zfs/users/asda1/asda1/miniconda3/envs/env-dssg/lib/python3.12/site-packages (from datasets>=2.3.0->setfit) (0.6)\n",
      "Requirement already satisfied: dill<0.3.9,>=0.3.0 in /zfs/users/asda1/asda1/miniconda3/envs/env-dssg/lib/python3.12/site-packages (from datasets>=2.3.0->setfit) (0.3.8)\n",
      "Requirement already satisfied: pandas in /zfs/users/asda1/asda1/miniconda3/envs/env-dssg/lib/python3.12/site-packages (from datasets>=2.3.0->setfit) (2.2.2)\n",
      "Requirement already satisfied: xxhash in /zfs/users/asda1/asda1/miniconda3/envs/env-dssg/lib/python3.12/site-packages (from datasets>=2.3.0->setfit) (3.4.1)\n",
      "Requirement already satisfied: multiprocess in /zfs/users/asda1/asda1/miniconda3/envs/env-dssg/lib/python3.12/site-packages (from datasets>=2.3.0->setfit) (0.70.16)\n",
      "Requirement already satisfied: fsspec<=2024.5.0,>=2023.1.0 in /zfs/users/asda1/asda1/miniconda3/envs/env-dssg/lib/python3.12/site-packages (from fsspec[http]<=2024.5.0,>=2023.1.0->datasets>=2.3.0->setfit) (2024.5.0)\n",
      "Requirement already satisfied: aiohttp in /zfs/users/asda1/asda1/miniconda3/envs/env-dssg/lib/python3.12/site-packages (from datasets>=2.3.0->setfit) (3.9.5)\n",
      "Requirement already satisfied: typing-extensions>=3.7.4.3 in /zfs/users/asda1/asda1/miniconda3/envs/env-dssg/lib/python3.12/site-packages (from huggingface-hub>=0.13.0->setfit) (4.12.2)\n",
      "Requirement already satisfied: charset-normalizer<4,>=2 in /zfs/users/asda1/asda1/miniconda3/envs/env-dssg/lib/python3.12/site-packages (from requests->transformers) (3.3.2)\n",
      "Requirement already satisfied: idna<4,>=2.5 in /zfs/users/asda1/asda1/miniconda3/envs/env-dssg/lib/python3.12/site-packages (from requests->transformers) (3.7)\n",
      "Requirement already satisfied: urllib3<3,>=1.21.1 in /zfs/users/asda1/asda1/miniconda3/envs/env-dssg/lib/python3.12/site-packages (from requests->transformers) (2.2.2)\n",
      "Requirement already satisfied: certifi>=2017.4.17 in /zfs/users/asda1/asda1/miniconda3/envs/env-dssg/lib/python3.12/site-packages (from requests->transformers) (2024.6.2)\n",
      "Requirement already satisfied: sympy in /zfs/users/asda1/asda1/miniconda3/envs/env-dssg/lib/python3.12/site-packages (from torch>=1.11.0->sentence-transformers) (1.12.1)\n",
      "Requirement already satisfied: networkx in /zfs/users/asda1/asda1/miniconda3/envs/env-dssg/lib/python3.12/site-packages (from torch>=1.11.0->sentence-transformers) (3.3)\n",
      "Requirement already satisfied: jinja2 in /zfs/users/asda1/asda1/miniconda3/envs/env-dssg/lib/python3.12/site-packages (from torch>=1.11.0->sentence-transformers) (3.1.4)\n",
      "Requirement already satisfied: nvidia-cuda-nvrtc-cu12==12.1.105 in /zfs/users/asda1/asda1/miniconda3/envs/env-dssg/lib/python3.12/site-packages (from torch>=1.11.0->sentence-transformers) (12.1.105)\n",
      "Requirement already satisfied: nvidia-cuda-runtime-cu12==12.1.105 in /zfs/users/asda1/asda1/miniconda3/envs/env-dssg/lib/python3.12/site-packages (from torch>=1.11.0->sentence-transformers) (12.1.105)\n",
      "Requirement already satisfied: nvidia-cuda-cupti-cu12==12.1.105 in /zfs/users/asda1/asda1/miniconda3/envs/env-dssg/lib/python3.12/site-packages (from torch>=1.11.0->sentence-transformers) (12.1.105)\n",
      "Requirement already satisfied: nvidia-cudnn-cu12==8.9.2.26 in /zfs/users/asda1/asda1/miniconda3/envs/env-dssg/lib/python3.12/site-packages (from torch>=1.11.0->sentence-transformers) (8.9.2.26)\n",
      "Requirement already satisfied: nvidia-cublas-cu12==12.1.3.1 in /zfs/users/asda1/asda1/miniconda3/envs/env-dssg/lib/python3.12/site-packages (from torch>=1.11.0->sentence-transformers) (12.1.3.1)\n",
      "Requirement already satisfied: nvidia-cufft-cu12==11.0.2.54 in /zfs/users/asda1/asda1/miniconda3/envs/env-dssg/lib/python3.12/site-packages (from torch>=1.11.0->sentence-transformers) (11.0.2.54)\n",
      "Requirement already satisfied: nvidia-curand-cu12==10.3.2.106 in /zfs/users/asda1/asda1/miniconda3/envs/env-dssg/lib/python3.12/site-packages (from torch>=1.11.0->sentence-transformers) (10.3.2.106)\n",
      "Requirement already satisfied: nvidia-cusolver-cu12==11.4.5.107 in /zfs/users/asda1/asda1/miniconda3/envs/env-dssg/lib/python3.12/site-packages (from torch>=1.11.0->sentence-transformers) (11.4.5.107)\n",
      "Requirement already satisfied: nvidia-cusparse-cu12==12.1.0.106 in /zfs/users/asda1/asda1/miniconda3/envs/env-dssg/lib/python3.12/site-packages (from torch>=1.11.0->sentence-transformers) (12.1.0.106)\n",
      "Requirement already satisfied: nvidia-nccl-cu12==2.20.5 in /zfs/users/asda1/asda1/miniconda3/envs/env-dssg/lib/python3.12/site-packages (from torch>=1.11.0->sentence-transformers) (2.20.5)\n",
      "Requirement already satisfied: nvidia-nvtx-cu12==12.1.105 in /zfs/users/asda1/asda1/miniconda3/envs/env-dssg/lib/python3.12/site-packages (from torch>=1.11.0->sentence-transformers) (12.1.105)\n",
      "Requirement already satisfied: nvidia-nvjitlink-cu12 in /zfs/users/asda1/asda1/miniconda3/envs/env-dssg/lib/python3.12/site-packages (from nvidia-cusolver-cu12==11.4.5.107->torch>=1.11.0->sentence-transformers) (12.5.40)\n",
      "Requirement already satisfied: joblib>=1.2.0 in /zfs/users/asda1/asda1/miniconda3/envs/env-dssg/lib/python3.12/site-packages (from scikit-learn->setfit) (1.4.2)\n",
      "Requirement already satisfied: threadpoolctl>=3.1.0 in /zfs/users/asda1/asda1/miniconda3/envs/env-dssg/lib/python3.12/site-packages (from scikit-learn->setfit) (3.5.0)\n",
      "Requirement already satisfied: aiosignal>=1.1.2 in /zfs/users/asda1/asda1/miniconda3/envs/env-dssg/lib/python3.12/site-packages (from aiohttp->datasets>=2.3.0->setfit) (1.3.1)\n",
      "Requirement already satisfied: attrs>=17.3.0 in /zfs/users/asda1/asda1/miniconda3/envs/env-dssg/lib/python3.12/site-packages (from aiohttp->datasets>=2.3.0->setfit) (23.2.0)\n",
      "Requirement already satisfied: frozenlist>=1.1.1 in /zfs/users/asda1/asda1/miniconda3/envs/env-dssg/lib/python3.12/site-packages (from aiohttp->datasets>=2.3.0->setfit) (1.4.1)\n",
      "Requirement already satisfied: multidict<7.0,>=4.5 in /zfs/users/asda1/asda1/miniconda3/envs/env-dssg/lib/python3.12/site-packages (from aiohttp->datasets>=2.3.0->setfit) (6.0.5)\n",
      "Requirement already satisfied: yarl<2.0,>=1.0 in /zfs/users/asda1/asda1/miniconda3/envs/env-dssg/lib/python3.12/site-packages (from aiohttp->datasets>=2.3.0->setfit) (1.9.4)\n",
      "Requirement already satisfied: MarkupSafe>=2.0 in /zfs/users/asda1/asda1/miniconda3/envs/env-dssg/lib/python3.12/site-packages (from jinja2->torch>=1.11.0->sentence-transformers) (2.1.5)\n",
      "Requirement already satisfied: python-dateutil>=2.8.2 in /zfs/users/asda1/asda1/miniconda3/envs/env-dssg/lib/python3.12/site-packages (from pandas->datasets>=2.3.0->setfit) (2.9.0)\n",
      "Requirement already satisfied: pytz>=2020.1 in /zfs/users/asda1/asda1/miniconda3/envs/env-dssg/lib/python3.12/site-packages (from pandas->datasets>=2.3.0->setfit) (2024.1)\n",
      "Requirement already satisfied: tzdata>=2022.7 in /zfs/users/asda1/asda1/miniconda3/envs/env-dssg/lib/python3.12/site-packages (from pandas->datasets>=2.3.0->setfit) (2024.1)\n",
      "Requirement already satisfied: mpmath<1.4.0,>=1.1.0 in /zfs/users/asda1/asda1/miniconda3/envs/env-dssg/lib/python3.12/site-packages (from sympy->torch>=1.11.0->sentence-transformers) (1.3.0)\n",
      "Requirement already satisfied: six>=1.5 in /zfs/users/asda1/asda1/miniconda3/envs/env-dssg/lib/python3.12/site-packages (from python-dateutil>=2.8.2->pandas->datasets>=2.3.0->setfit) (1.16.0)\n",
      "Note: you may need to restart the kernel to use updated packages.\n"
     ]
    }
   ],
   "source": [
    "%pip install pandas torch \n",
    "%pip install setfit transformers sentence-transformers"
   ]
  },
  {
   "cell_type": "code",
   "execution_count": null,
   "id": "18f0eee2",
   "metadata": {},
   "outputs": [],
   "source": [
    "%pip install --upgrade transformers\n",
    "%pip install --upgrade sentence-transformers"
   ]
  },
  {
   "cell_type": "code",
   "execution_count": null,
   "id": "e5c983e6",
   "metadata": {},
   "outputs": [],
   "source": [
    "%pip install tf-keras"
   ]
  },
  {
   "cell_type": "code",
   "execution_count": null,
   "id": "66003a0d",
   "metadata": {},
   "outputs": [],
   "source": [
    "## Read the dataframe\n",
    "\n",
    "import pandas as pd\n",
    "from transformers import pipeline\n",
    "\n",
    "\n",
    "# Load your DataFrame\n",
    "Master_all_Cleaned = pd.read_csv('../clean_data/Master_all_Cleaned.csv')"
   ]
  },
  {
   "cell_type": "code",
   "execution_count": null,
   "id": "49515bdb",
   "metadata": {},
   "outputs": [],
   "source": [
    "Master_all_Cleaned"
   ]
  },
  {
   "cell_type": "code",
   "execution_count": null,
   "id": "bf811553",
   "metadata": {},
   "outputs": [],
   "source": [
    "data = Master_all_Cleaned.iloc[7:17]\n",
    "texts_list = data['Response'].tolist()\n",
    "\n"
   ]
  },
  {
   "cell_type": "code",
   "execution_count": null,
   "id": "69229353",
   "metadata": {},
   "outputs": [],
   "source": [
    "data"
   ]
  },
  {
   "cell_type": "code",
   "execution_count": null,
   "id": "9c4c9ada",
   "metadata": {},
   "outputs": [],
   "source": [
    "from transformers import pipeline\n",
    "# \"joeddav/xlm-roberta-large-xnli\"\n",
    "# Initialize the zero-shot classification pipeline\n",
    "classifier = pipeline(\"zero-shot-classification\", model=\"facebook/bart-large-mnli\")\n",
    "# Define your mood categories\n",
    "mood_categories = [\"happy\", \"sad\", \"angry\", \"excited\", \"neutral\", \"stressed\", \"surprised\", \"disappointed\", \"frustrated\", \"worried\", \"nervous\", \"hopeful\", \"thankful\"]"
   ]
  },
  {
   "cell_type": "code",
   "execution_count": null,
   "id": "23e51a92",
   "metadata": {},
   "outputs": [],
   "source": [
    "from sklearn.metrics import classification_report\n",
    "predicted_labels = []\n",
    "results = []\n",
    "for text in texts_list:\n",
    "    result = classifier(text, candidate_labels=mood_categories)\n",
    "    results.append(result)\n",
    "    predicted_labels.append(result['labels'][0])\n",
    "#print(results)\n",
    "\n",
    "# Create a DataFrame to store the results\n",
    "data = {\n",
    "    'Text': texts_list,\n",
    "    'Predicted Label': predicted_labels,\n",
    "    'Scores': [result['scores'] for result in results]\n",
    "}\n",
    "pd.set_option('display.max_colwidth', None)\n",
    "df = pd.DataFrame(data)\n",
    "df"
   ]
  },
  {
   "cell_type": "code",
   "execution_count": null,
   "id": "3fc13eac-82bc-4a6d-97d6-b6fddf0f03d9",
   "metadata": {},
   "outputs": [],
   "source": [
    "\n",
    "# # Use the zero-shot classification pipeline\n",
    "# mood_classifier = pipeline(\"zero-shot-classification\", framework=\"tf\")\n",
    "\n",
    "# # Define your mood categories\n",
    "# mood_categories = [\n",
    "#     \"happy\", \"sad\", \"angry\", \"excited\", \"neutral\",\n",
    "#     \"content\", \"confident\", \"stressed\", \"calm\", \"optimistic\",\n",
    "#     \"pessimistic\", \"surprised\", \"disappointed\", \"frustrated\", \n",
    "#     \"worried\", \"bored\", \"nostalgic\", \n",
    "#     \"lonely\", \"loved\", \"appreciated\", \"rejected\", \"guilty\",\n",
    "#     \"hopeless\", \"empowered\"\n",
    "# ]\n",
    "\n",
    "# # Drop the 'Category' and 'Response Datetime' columns\n",
    "# mood_data = Master_all_Cleaned.drop(columns=['Category', 'Response Datetime'])\n",
    "\n",
    "# classifications = []\n",
    "# for index, row in mood_data.iterrows():\n",
    "#     message = row['Response']\n",
    "#     result = mood_classifier(message, candidate_labels=mood_categories)\n",
    "#     classifications.append(result['labels'][0])\n",
    "\n",
    "# mood_data['classification'] = classifications\n"
   ]
  },
  {
   "cell_type": "code",
   "execution_count": null,
   "id": "88517aec-13d5-40b9-97ff-3cec025a2a3d",
   "metadata": {},
   "outputs": [],
   "source": [
    "classifier = pipeline(\"zero-shot-classification\",device = 0)"
   ]
  },
  {
   "cell_type": "code",
   "execution_count": null,
   "id": "77997eda-27c1-4d24-ab78-a2b372b4fb50",
   "metadata": {},
   "outputs": [],
   "source": []
  },
  {
   "cell_type": "code",
   "execution_count": null,
   "id": "a28e00ea",
   "metadata": {},
   "outputs": [],
   "source": []
  }
 ],
 "metadata": {
  "kernelspec": {
   "display_name": "Python 3 (ipykernel)",
   "language": "python",
   "name": "python3"
  },
  "language_info": {
   "codemirror_mode": {
    "name": "ipython",
    "version": 3
   },
   "file_extension": ".py",
   "mimetype": "text/x-python",
   "name": "python",
   "nbconvert_exporter": "python",
   "pygments_lexer": "ipython3",
   "version": "3.12.3"
  }
 },
 "nbformat": 4,
 "nbformat_minor": 5
}
