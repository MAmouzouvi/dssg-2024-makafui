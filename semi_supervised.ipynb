{
 "cells": [
  {
   "cell_type": "code",
   "execution_count": 46,
   "id": "3aa0f040-22da-4a70-aca9-a410a10ddc60",
   "metadata": {},
   "outputs": [],
   "source": [
    "### Do this in the terminal "
   ]
  },
  {
   "cell_type": "code",
   "execution_count": 51,
   "id": "8270c848-5189-491a-b9b3-0ab0aca5a128",
   "metadata": {},
   "outputs": [
    {
     "data": {
      "text/html": [
       "<div>\n",
       "<style scoped>\n",
       "    .dataframe tbody tr th:only-of-type {\n",
       "        vertical-align: middle;\n",
       "    }\n",
       "\n",
       "    .dataframe tbody tr th {\n",
       "        vertical-align: top;\n",
       "    }\n",
       "\n",
       "    .dataframe thead th {\n",
       "        text-align: right;\n",
       "    }\n",
       "</style>\n",
       "<table border=\"1\" class=\"dataframe\">\n",
       "  <thead>\n",
       "    <tr style=\"text-align: right;\">\n",
       "      <th></th>\n",
       "      <th>Mentor ID</th>\n",
       "      <th>Mentee ID</th>\n",
       "      <th>Relationship ID</th>\n",
       "      <th>Response Datetime</th>\n",
       "      <th>Response</th>\n",
       "      <th>Mentor</th>\n",
       "    </tr>\n",
       "  </thead>\n",
       "  <tbody>\n",
       "    <tr>\n",
       "      <th>0</th>\n",
       "      <td>1.047547e+09</td>\n",
       "      <td>1.047541e+09</td>\n",
       "      <td>42216</td>\n",
       "      <td>2021-10-16 00:33:00</td>\n",
       "      <td>I have to tell you, there isn't really a great excuse for why I haven't written.\\nBut don't worry, I didn't just do it to you. Sometimes I just fall out of contact with people for a\\ncouple of weeks at a time. I really do enjoy our talks, I just messed this one up. I'm typing this\\nout right now with my dog going nuts beside me hoping for food, and I can't feel my mouth. Man does\\ngetting wisdom teeth taken out suck or what. Anywho, I don't neccesarily agree with the idea that\\nintention MUST be a key component of creation. Creation, at it's most base form, is giving life to\\nsomething, putting a piece of yourself into it. That doesn't translate into needing a specific\\nintention. Take a doodle for example. It's a creation, yet you likely had no intention behind it\\nwhen you started. This example could be called the lazy method. It's so small and inconsequential,\\nthat intention is not needed. Makes sense. You don't have to put effort into it, so there's no\\ninvestment. I would argue that larger projects like books could be created without intention as\\nwell. Personally I just let it go. (Yes I'm legally intoxicated from getting the teeth done and am\\nwatching Frozen.) While I had the intention to finish the project, I would discount that as\\nirrelevant to our point. I felt the need to write consistently almost to the point where it ached,\\nso I did. Mostly on a paragraph by paragraph basis, without an overall driving goal or desire. (That\\ncame back to bite me in the ass on the editing stage.) It is a bit tricky to continue a cohesive\\nlarge scale project without intention, but is by no means impossible. Now my teeth hurt, I have ice\\ncream to eat, and I must unpause Frozen. As much as I love our scintilating conversations, I must\\ndepart to better things. Onwards and upwards as they say. Don't feel bad. It's hard to compete with\\nFrozen and ice cream. Ba la la la Evan</td>\n",
       "      <td>Mentee</td>\n",
       "    </tr>\n",
       "    <tr>\n",
       "      <th>1</th>\n",
       "      <td>1.047547e+09</td>\n",
       "      <td>1.047541e+09</td>\n",
       "      <td>42216</td>\n",
       "      <td>2021-10-18 23:48:00</td>\n",
       "      <td>Heyyy!! It's no problem, the great\\nthing about this program is that we can take our time to reply :) Oooooo I'm going to be getting my\\nwisdom teeth out in a couple weeks and I'm a little nervous. But at least you do get to eat tasty\\nthings like ice cream! I live with my aunt and uncle but my mom is going to drive 5 hours to come\\nhang out with me for a few days while I recover &amp;lt;3 So I'm going to treat it as a vacation. Also,\\nI can't believe you paused Frozen just to reply to me. I feel honoured - I don't think I'd have that\\nsame strength of will! Although, I did pause on a particularly cliff-hangy episode of a show to\\nreply to you, so you should feel special too lmao. :) I really hear what you're saying and I\\nappreciate your point of view! Creating soemthing is like gicing life to it and giving it a little\\npiece of yourself. In one of my classes today the professor talked about how what you create/your\\ncontent is like a representation of you. You created it and it is like an extension of yourself. And\\nbecause you're alive, it becomes alive in a way too. Also, I like what you said about feeling the\\nneed to write until it ached. It's really cool to talk to another writer, because I feel like you\\njust GET it. I'm glad they paired us up. :) Were there other parts of the video that you perhaps\\nrelated to more? Or do you have an entirely different approach when it comes to finding inspiration?\\nI'm always curious about peoples' process. And sometimes I get inspired by other peoples\\ninspiration. Whoa. Inception-spiration?? Ba la la, Stasia</td>\n",
       "      <td>Mentor</td>\n",
       "    </tr>\n",
       "  </tbody>\n",
       "</table>\n",
       "</div>"
      ],
      "text/plain": [
       "      Mentor ID     Mentee ID  Relationship ID    Response Datetime  \\\n",
       "0  1.047547e+09  1.047541e+09            42216  2021-10-16 00:33:00   \n",
       "1  1.047547e+09  1.047541e+09            42216  2021-10-18 23:48:00   \n",
       "\n",
       "                                                                                                                                                                                                                                                                                                                                                                                                                                                                                                                                                                                                                                                                                                                                                                                                                                                                                                                                                                                                                                                                                                                                                                                                                                                                                                                                                                                                                                                                                                                                                                                                                                                                                                                                                                                                                                                                                                                                                                         Response  \\\n",
       "0  I have to tell you, there isn't really a great excuse for why I haven't written.\\nBut don't worry, I didn't just do it to you. Sometimes I just fall out of contact with people for a\\ncouple of weeks at a time. I really do enjoy our talks, I just messed this one up. I'm typing this\\nout right now with my dog going nuts beside me hoping for food, and I can't feel my mouth. Man does\\ngetting wisdom teeth taken out suck or what. Anywho, I don't neccesarily agree with the idea that\\nintention MUST be a key component of creation. Creation, at it's most base form, is giving life to\\nsomething, putting a piece of yourself into it. That doesn't translate into needing a specific\\nintention. Take a doodle for example. It's a creation, yet you likely had no intention behind it\\nwhen you started. This example could be called the lazy method. It's so small and inconsequential,\\nthat intention is not needed. Makes sense. You don't have to put effort into it, so there's no\\ninvestment. I would argue that larger projects like books could be created without intention as\\nwell. Personally I just let it go. (Yes I'm legally intoxicated from getting the teeth done and am\\nwatching Frozen.) While I had the intention to finish the project, I would discount that as\\nirrelevant to our point. I felt the need to write consistently almost to the point where it ached,\\nso I did. Mostly on a paragraph by paragraph basis, without an overall driving goal or desire. (That\\ncame back to bite me in the ass on the editing stage.) It is a bit tricky to continue a cohesive\\nlarge scale project without intention, but is by no means impossible. Now my teeth hurt, I have ice\\ncream to eat, and I must unpause Frozen. As much as I love our scintilating conversations, I must\\ndepart to better things. Onwards and upwards as they say. Don't feel bad. It's hard to compete with\\nFrozen and ice cream. Ba la la la Evan   \n",
       "1                                                                                                                                                                                                                                                                                                                                         Heyyy!! It's no problem, the great\\nthing about this program is that we can take our time to reply :) Oooooo I'm going to be getting my\\nwisdom teeth out in a couple weeks and I'm a little nervous. But at least you do get to eat tasty\\nthings like ice cream! I live with my aunt and uncle but my mom is going to drive 5 hours to come\\nhang out with me for a few days while I recover &lt;3 So I'm going to treat it as a vacation. Also,\\nI can't believe you paused Frozen just to reply to me. I feel honoured - I don't think I'd have that\\nsame strength of will! Although, I did pause on a particularly cliff-hangy episode of a show to\\nreply to you, so you should feel special too lmao. :) I really hear what you're saying and I\\nappreciate your point of view! Creating soemthing is like gicing life to it and giving it a little\\npiece of yourself. In one of my classes today the professor talked about how what you create/your\\ncontent is like a representation of you. You created it and it is like an extension of yourself. And\\nbecause you're alive, it becomes alive in a way too. Also, I like what you said about feeling the\\nneed to write until it ached. It's really cool to talk to another writer, because I feel like you\\njust GET it. I'm glad they paired us up. :) Were there other parts of the video that you perhaps\\nrelated to more? Or do you have an entirely different approach when it comes to finding inspiration?\\nI'm always curious about peoples' process. And sometimes I get inspired by other peoples\\ninspiration. Whoa. Inception-spiration?? Ba la la, Stasia   \n",
       "\n",
       "   Mentor  \n",
       "0  Mentee  \n",
       "1  Mentor  "
      ]
     },
     "execution_count": 51,
     "metadata": {},
     "output_type": "execute_result"
    }
   ],
   "source": [
    "import pandas as pd\n",
    "import numpy as np\n",
    "#pd.set_option('display.max_colwidth', None)\n",
    "success_relation_IDs = [42216, 67337, 67332, 40437, 58911, 54540, 59573,58898]\n",
    "\n",
    "success_pairs = pd.read_csv('../clean_data/Successful_pairs_Cleaned.csv')\n",
    "Master_all_Cleaned = pd.read_csv('../clean_data/Master_all_Cleaned.csv')\n",
    "success_pairs.head(2)"
   ]
  },
  {
   "cell_type": "code",
   "execution_count": null,
   "id": "66dfe10f-6c92-4d56-a9d3-fe6237b5659a",
   "metadata": {},
   "outputs": [],
   "source": []
  },
  {
   "cell_type": "code",
   "execution_count": 60,
   "id": "b26bd6eb",
   "metadata": {},
   "outputs": [
    {
     "ename": "TypeError",
     "evalue": "unsupported operand type(s) for +: 'int' and 'str'",
     "output_type": "error",
     "traceback": [
      "\u001b[0;31m---------------------------------------------------------------------------\u001b[0m",
      "\u001b[0;31mTypeError\u001b[0m                                 Traceback (most recent call last)",
      "File \u001b[0;32m~/miniconda3/envs/env-dssg/lib/python3.12/site-packages/pandas/core/groupby/groupby.py:1824\u001b[0m, in \u001b[0;36mGroupBy.apply\u001b[0;34m(self, func, include_groups, *args, **kwargs)\u001b[0m\n\u001b[1;32m   1823\u001b[0m \u001b[38;5;28;01mtry\u001b[39;00m:\n\u001b[0;32m-> 1824\u001b[0m     result \u001b[38;5;241m=\u001b[39m \u001b[38;5;28;43mself\u001b[39;49m\u001b[38;5;241;43m.\u001b[39;49m\u001b[43m_python_apply_general\u001b[49m\u001b[43m(\u001b[49m\u001b[43mf\u001b[49m\u001b[43m,\u001b[49m\u001b[43m \u001b[49m\u001b[38;5;28;43mself\u001b[39;49m\u001b[38;5;241;43m.\u001b[39;49m\u001b[43m_selected_obj\u001b[49m\u001b[43m)\u001b[49m\n\u001b[1;32m   1825\u001b[0m     \u001b[38;5;28;01mif\u001b[39;00m (\n\u001b[1;32m   1826\u001b[0m         \u001b[38;5;129;01mnot\u001b[39;00m \u001b[38;5;28misinstance\u001b[39m(\u001b[38;5;28mself\u001b[39m\u001b[38;5;241m.\u001b[39mobj, Series)\n\u001b[1;32m   1827\u001b[0m         \u001b[38;5;129;01mand\u001b[39;00m \u001b[38;5;28mself\u001b[39m\u001b[38;5;241m.\u001b[39m_selection \u001b[38;5;129;01mis\u001b[39;00m \u001b[38;5;28;01mNone\u001b[39;00m\n\u001b[1;32m   1828\u001b[0m         \u001b[38;5;129;01mand\u001b[39;00m \u001b[38;5;28mself\u001b[39m\u001b[38;5;241m.\u001b[39m_selected_obj\u001b[38;5;241m.\u001b[39mshape \u001b[38;5;241m!=\u001b[39m \u001b[38;5;28mself\u001b[39m\u001b[38;5;241m.\u001b[39m_obj_with_exclusions\u001b[38;5;241m.\u001b[39mshape\n\u001b[1;32m   1829\u001b[0m     ):\n",
      "File \u001b[0;32m~/miniconda3/envs/env-dssg/lib/python3.12/site-packages/pandas/core/groupby/groupby.py:1885\u001b[0m, in \u001b[0;36mGroupBy._python_apply_general\u001b[0;34m(self, f, data, not_indexed_same, is_transform, is_agg)\u001b[0m\n\u001b[1;32m   1859\u001b[0m \u001b[38;5;250m\u001b[39m\u001b[38;5;124;03m\"\"\"\u001b[39;00m\n\u001b[1;32m   1860\u001b[0m \u001b[38;5;124;03mApply function f in python space\u001b[39;00m\n\u001b[1;32m   1861\u001b[0m \n\u001b[0;32m   (...)\u001b[0m\n\u001b[1;32m   1883\u001b[0m \u001b[38;5;124;03m    data after applying f\u001b[39;00m\n\u001b[1;32m   1884\u001b[0m \u001b[38;5;124;03m\"\"\"\u001b[39;00m\n\u001b[0;32m-> 1885\u001b[0m values, mutated \u001b[38;5;241m=\u001b[39m \u001b[38;5;28;43mself\u001b[39;49m\u001b[38;5;241;43m.\u001b[39;49m\u001b[43m_grouper\u001b[49m\u001b[38;5;241;43m.\u001b[39;49m\u001b[43mapply_groupwise\u001b[49m\u001b[43m(\u001b[49m\u001b[43mf\u001b[49m\u001b[43m,\u001b[49m\u001b[43m \u001b[49m\u001b[43mdata\u001b[49m\u001b[43m,\u001b[49m\u001b[43m \u001b[49m\u001b[38;5;28;43mself\u001b[39;49m\u001b[38;5;241;43m.\u001b[39;49m\u001b[43maxis\u001b[49m\u001b[43m)\u001b[49m\n\u001b[1;32m   1886\u001b[0m \u001b[38;5;28;01mif\u001b[39;00m not_indexed_same \u001b[38;5;129;01mis\u001b[39;00m \u001b[38;5;28;01mNone\u001b[39;00m:\n",
      "File \u001b[0;32m~/miniconda3/envs/env-dssg/lib/python3.12/site-packages/pandas/core/groupby/ops.py:919\u001b[0m, in \u001b[0;36mBaseGrouper.apply_groupwise\u001b[0;34m(self, f, data, axis)\u001b[0m\n\u001b[1;32m    918\u001b[0m group_axes \u001b[38;5;241m=\u001b[39m group\u001b[38;5;241m.\u001b[39maxes\n\u001b[0;32m--> 919\u001b[0m res \u001b[38;5;241m=\u001b[39m \u001b[43mf\u001b[49m\u001b[43m(\u001b[49m\u001b[43mgroup\u001b[49m\u001b[43m)\u001b[49m\n\u001b[1;32m    920\u001b[0m \u001b[38;5;28;01mif\u001b[39;00m \u001b[38;5;129;01mnot\u001b[39;00m mutated \u001b[38;5;129;01mand\u001b[39;00m \u001b[38;5;129;01mnot\u001b[39;00m _is_indexed_like(res, group_axes, axis):\n",
      "Cell \u001b[0;32mIn[60], line 7\u001b[0m, in \u001b[0;36manalyze_relationship\u001b[0;34m(group)\u001b[0m\n\u001b[1;32m      4\u001b[0m \u001b[38;5;28;01mdef\u001b[39;00m \u001b[38;5;21manalyze_relationship\u001b[39m(group):\n\u001b[1;32m      5\u001b[0m     \u001b[38;5;66;03m# Here you can implement your logic to determine if the relationship was successful or not\u001b[39;00m\n\u001b[1;32m      6\u001b[0m     \u001b[38;5;66;03m# For this example, I'm just returning a random value\u001b[39;00m\n\u001b[0;32m----> 7\u001b[0m     \u001b[38;5;28;01mreturn\u001b[39;00m \u001b[38;5;124m'\u001b[39m\u001b[38;5;124mSuccessful\u001b[39m\u001b[38;5;124m'\u001b[39m \u001b[38;5;28;01mif\u001b[39;00m \u001b[38;5;28;43msum\u001b[39;49m\u001b[43m(\u001b[49m\u001b[43mgroup\u001b[49m\u001b[43m)\u001b[49m \u001b[38;5;241m>\u001b[39m \u001b[38;5;241m20\u001b[39m \u001b[38;5;28;01melse\u001b[39;00m \u001b[38;5;124m'\u001b[39m\u001b[38;5;124mNot Successful\u001b[39m\u001b[38;5;124m'\u001b[39m\n",
      "\u001b[0;31mTypeError\u001b[0m: unsupported operand type(s) for +: 'int' and 'str'",
      "\nDuring handling of the above exception, another exception occurred:\n",
      "\u001b[0;31mTypeError\u001b[0m                                 Traceback (most recent call last)",
      "Cell \u001b[0;32mIn[60], line 15\u001b[0m\n\u001b[1;32m     10\u001b[0m grouped \u001b[38;5;241m=\u001b[39m df\u001b[38;5;241m.\u001b[39mgroupby([\u001b[38;5;124m'\u001b[39m\u001b[38;5;124mMentor ID\u001b[39m\u001b[38;5;124m'\u001b[39m, \u001b[38;5;124m'\u001b[39m\u001b[38;5;124mMentee ID\u001b[39m\u001b[38;5;124m'\u001b[39m, \u001b[38;5;124m'\u001b[39m\u001b[38;5;124mRelationship ID\u001b[39m\u001b[38;5;124m'\u001b[39m])\n\u001b[1;32m     12\u001b[0m \u001b[38;5;66;03m# Apply the function and create a new column\u001b[39;00m\n\u001b[1;32m     13\u001b[0m \u001b[38;5;66;03m#df['Relationship Status'] = grouped.apply(analyze_relationship).reset_index(drop=True)\u001b[39;00m\n\u001b[1;32m     14\u001b[0m \u001b[38;5;66;03m# Apply the function and create a new column\u001b[39;00m\n\u001b[0;32m---> 15\u001b[0m df[\u001b[38;5;124m'\u001b[39m\u001b[38;5;124mRelationship Status\u001b[39m\u001b[38;5;124m'\u001b[39m] \u001b[38;5;241m=\u001b[39m \u001b[43mgrouped\u001b[49m\u001b[38;5;241;43m.\u001b[39;49m\u001b[43mapply\u001b[49m\u001b[43m(\u001b[49m\u001b[43manalyze_relationship\u001b[49m\u001b[43m)\u001b[49m\u001b[38;5;241m.\u001b[39mreset_index(level\u001b[38;5;241m=\u001b[39m[\u001b[38;5;241m0\u001b[39m,\u001b[38;5;241m1\u001b[39m,\u001b[38;5;241m2\u001b[39m], drop\u001b[38;5;241m=\u001b[39m\u001b[38;5;28;01mTrue\u001b[39;00m)\n\u001b[1;32m     18\u001b[0m \u001b[38;5;66;03m# Display the DataFrame\u001b[39;00m\n\u001b[1;32m     19\u001b[0m df[df[\u001b[38;5;124m'\u001b[39m\u001b[38;5;124mRelationship ID\u001b[39m\u001b[38;5;124m'\u001b[39m] \u001b[38;5;241m==\u001b[39m \u001b[38;5;241m42216\u001b[39m]\n",
      "File \u001b[0;32m~/miniconda3/envs/env-dssg/lib/python3.12/site-packages/pandas/core/groupby/groupby.py:1846\u001b[0m, in \u001b[0;36mGroupBy.apply\u001b[0;34m(self, func, include_groups, *args, **kwargs)\u001b[0m\n\u001b[1;32m   1830\u001b[0m             warnings\u001b[38;5;241m.\u001b[39mwarn(\n\u001b[1;32m   1831\u001b[0m                 message\u001b[38;5;241m=\u001b[39m_apply_groupings_depr\u001b[38;5;241m.\u001b[39mformat(\n\u001b[1;32m   1832\u001b[0m                     \u001b[38;5;28mtype\u001b[39m(\u001b[38;5;28mself\u001b[39m)\u001b[38;5;241m.\u001b[39m\u001b[38;5;18m__name__\u001b[39m, \u001b[38;5;124m\"\u001b[39m\u001b[38;5;124mapply\u001b[39m\u001b[38;5;124m\"\u001b[39m\n\u001b[0;32m   (...)\u001b[0m\n\u001b[1;32m   1835\u001b[0m                 stacklevel\u001b[38;5;241m=\u001b[39mfind_stack_level(),\n\u001b[1;32m   1836\u001b[0m             )\n\u001b[1;32m   1837\u001b[0m     \u001b[38;5;28;01mexcept\u001b[39;00m \u001b[38;5;167;01mTypeError\u001b[39;00m:\n\u001b[1;32m   1838\u001b[0m         \u001b[38;5;66;03m# gh-20949\u001b[39;00m\n\u001b[1;32m   1839\u001b[0m         \u001b[38;5;66;03m# try again, with .apply acting as a filtering\u001b[39;00m\n\u001b[0;32m   (...)\u001b[0m\n\u001b[1;32m   1843\u001b[0m         \u001b[38;5;66;03m# fails on *some* columns, e.g. a numeric operation\u001b[39;00m\n\u001b[1;32m   1844\u001b[0m         \u001b[38;5;66;03m# on a string grouper column\u001b[39;00m\n\u001b[0;32m-> 1846\u001b[0m         \u001b[38;5;28;01mreturn\u001b[39;00m \u001b[38;5;28;43mself\u001b[39;49m\u001b[38;5;241;43m.\u001b[39;49m\u001b[43m_python_apply_general\u001b[49m\u001b[43m(\u001b[49m\u001b[43mf\u001b[49m\u001b[43m,\u001b[49m\u001b[43m \u001b[49m\u001b[38;5;28;43mself\u001b[39;49m\u001b[38;5;241;43m.\u001b[39;49m\u001b[43m_obj_with_exclusions\u001b[49m\u001b[43m)\u001b[49m\n\u001b[1;32m   1848\u001b[0m \u001b[38;5;28;01mreturn\u001b[39;00m result\n",
      "File \u001b[0;32m~/miniconda3/envs/env-dssg/lib/python3.12/site-packages/pandas/core/groupby/groupby.py:1885\u001b[0m, in \u001b[0;36mGroupBy._python_apply_general\u001b[0;34m(self, f, data, not_indexed_same, is_transform, is_agg)\u001b[0m\n\u001b[1;32m   1850\u001b[0m \u001b[38;5;129m@final\u001b[39m\n\u001b[1;32m   1851\u001b[0m \u001b[38;5;28;01mdef\u001b[39;00m \u001b[38;5;21m_python_apply_general\u001b[39m(\n\u001b[1;32m   1852\u001b[0m     \u001b[38;5;28mself\u001b[39m,\n\u001b[0;32m   (...)\u001b[0m\n\u001b[1;32m   1857\u001b[0m     is_agg: \u001b[38;5;28mbool\u001b[39m \u001b[38;5;241m=\u001b[39m \u001b[38;5;28;01mFalse\u001b[39;00m,\n\u001b[1;32m   1858\u001b[0m ) \u001b[38;5;241m-\u001b[39m\u001b[38;5;241m>\u001b[39m NDFrameT:\n\u001b[1;32m   1859\u001b[0m \u001b[38;5;250m    \u001b[39m\u001b[38;5;124;03m\"\"\"\u001b[39;00m\n\u001b[1;32m   1860\u001b[0m \u001b[38;5;124;03m    Apply function f in python space\u001b[39;00m\n\u001b[1;32m   1861\u001b[0m \n\u001b[0;32m   (...)\u001b[0m\n\u001b[1;32m   1883\u001b[0m \u001b[38;5;124;03m        data after applying f\u001b[39;00m\n\u001b[1;32m   1884\u001b[0m \u001b[38;5;124;03m    \"\"\"\u001b[39;00m\n\u001b[0;32m-> 1885\u001b[0m     values, mutated \u001b[38;5;241m=\u001b[39m \u001b[38;5;28;43mself\u001b[39;49m\u001b[38;5;241;43m.\u001b[39;49m\u001b[43m_grouper\u001b[49m\u001b[38;5;241;43m.\u001b[39;49m\u001b[43mapply_groupwise\u001b[49m\u001b[43m(\u001b[49m\u001b[43mf\u001b[49m\u001b[43m,\u001b[49m\u001b[43m \u001b[49m\u001b[43mdata\u001b[49m\u001b[43m,\u001b[49m\u001b[43m \u001b[49m\u001b[38;5;28;43mself\u001b[39;49m\u001b[38;5;241;43m.\u001b[39;49m\u001b[43maxis\u001b[49m\u001b[43m)\u001b[49m\n\u001b[1;32m   1886\u001b[0m     \u001b[38;5;28;01mif\u001b[39;00m not_indexed_same \u001b[38;5;129;01mis\u001b[39;00m \u001b[38;5;28;01mNone\u001b[39;00m:\n\u001b[1;32m   1887\u001b[0m         not_indexed_same \u001b[38;5;241m=\u001b[39m mutated\n",
      "File \u001b[0;32m~/miniconda3/envs/env-dssg/lib/python3.12/site-packages/pandas/core/groupby/ops.py:919\u001b[0m, in \u001b[0;36mBaseGrouper.apply_groupwise\u001b[0;34m(self, f, data, axis)\u001b[0m\n\u001b[1;32m    917\u001b[0m \u001b[38;5;66;03m# group might be modified\u001b[39;00m\n\u001b[1;32m    918\u001b[0m group_axes \u001b[38;5;241m=\u001b[39m group\u001b[38;5;241m.\u001b[39maxes\n\u001b[0;32m--> 919\u001b[0m res \u001b[38;5;241m=\u001b[39m \u001b[43mf\u001b[49m\u001b[43m(\u001b[49m\u001b[43mgroup\u001b[49m\u001b[43m)\u001b[49m\n\u001b[1;32m    920\u001b[0m \u001b[38;5;28;01mif\u001b[39;00m \u001b[38;5;129;01mnot\u001b[39;00m mutated \u001b[38;5;129;01mand\u001b[39;00m \u001b[38;5;129;01mnot\u001b[39;00m _is_indexed_like(res, group_axes, axis):\n\u001b[1;32m    921\u001b[0m     mutated \u001b[38;5;241m=\u001b[39m \u001b[38;5;28;01mTrue\u001b[39;00m\n",
      "Cell \u001b[0;32mIn[60], line 7\u001b[0m, in \u001b[0;36manalyze_relationship\u001b[0;34m(group)\u001b[0m\n\u001b[1;32m      4\u001b[0m \u001b[38;5;28;01mdef\u001b[39;00m \u001b[38;5;21manalyze_relationship\u001b[39m(group):\n\u001b[1;32m      5\u001b[0m     \u001b[38;5;66;03m# Here you can implement your logic to determine if the relationship was successful or not\u001b[39;00m\n\u001b[1;32m      6\u001b[0m     \u001b[38;5;66;03m# For this example, I'm just returning a random value\u001b[39;00m\n\u001b[0;32m----> 7\u001b[0m     \u001b[38;5;28;01mreturn\u001b[39;00m \u001b[38;5;124m'\u001b[39m\u001b[38;5;124mSuccessful\u001b[39m\u001b[38;5;124m'\u001b[39m \u001b[38;5;28;01mif\u001b[39;00m \u001b[38;5;28;43msum\u001b[39;49m\u001b[43m(\u001b[49m\u001b[43mgroup\u001b[49m\u001b[43m)\u001b[49m \u001b[38;5;241m>\u001b[39m \u001b[38;5;241m20\u001b[39m \u001b[38;5;28;01melse\u001b[39;00m \u001b[38;5;124m'\u001b[39m\u001b[38;5;124mNot Successful\u001b[39m\u001b[38;5;124m'\u001b[39m\n",
      "\u001b[0;31mTypeError\u001b[0m: unsupported operand type(s) for +: 'int' and 'str'"
     ]
    }
   ],
   "source": [
    "df = success_pairs\n",
    "\n",
    "# Function to analyze the relationship\n",
    "def analyze_relationship(group):\n",
    "    # Here you can implement your logic to determine if the relationship was successful or not\n",
    "    # For this example, I'm just returning a random value\n",
    "    return 'Successful' if len(group) > 20 else 'Not Successful'\n",
    "\n",
    "# Group by Mentor ID, Mentee ID, and Relationship ID\n",
    "grouped = df.groupby(['Mentor ID', 'Mentee ID', 'Relationship ID'])\n",
    "\n",
    "# Apply the function and create a new column\n",
    "#df['Relationship Status'] = grouped.apply(analyze_relationship).reset_index(drop=True)\n",
    "# Apply the function and create a new column\n",
    "df['Relationship Status'] = grouped.apply(analyze_relationship).reset_index(level=[0,1,2], drop=True)\n",
    "\n",
    "\n",
    "# Display the DataFrame\n",
    "df"
   ]
  },
  {
   "cell_type": "code",
   "execution_count": null,
   "id": "ea7b0850",
   "metadata": {},
   "outputs": [],
   "source": []
  }
 ],
 "metadata": {
  "kernelspec": {
   "display_name": "Python 3 (ipykernel)",
   "language": "python",
   "name": "python3"
  },
  "language_info": {
   "codemirror_mode": {
    "name": "ipython",
    "version": 3
   },
   "file_extension": ".py",
   "mimetype": "text/x-python",
   "name": "python",
   "nbconvert_exporter": "python",
   "pygments_lexer": "ipython3",
   "version": "3.12.3"
  }
 },
 "nbformat": 4,
 "nbformat_minor": 5
}
